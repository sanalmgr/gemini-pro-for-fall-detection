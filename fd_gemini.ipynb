{
  "cells": [
    {
      "cell_type": "markdown",
      "metadata": {
        "id": "-QhPWE1lwZHH"
      },
      "source": [
        "# Gemini API Python - Time Series Analysis\n",
        "\n",
        "*   Domain: Time Series Analysis\n",
        "*   Problem: Fall Detection using Wrist Accelerometer Data\n",
        "*   Dataset: SmartFall2018 | [Download Dataset](https://userweb.cs.txstate.edu/~hn12/data/SmartFallDataSet/SmartFall/) | [Read Paper](https://pmc.ncbi.nlm.nih.gov/articles/PMC6210545/)"
      ]
    },
    {
      "cell_type": "markdown",
      "metadata": {
        "id": "kHkHARdb1ZID"
      },
      "source": [
        "## Install the SDK\n",
        "\n",
        "The Python SDK for the Gemini API is contained in the [`google-generativeai`](https://pypi.org/project/google-generativeai/) package. Install the dependency using pip:"
      ]
    },
    {
      "cell_type": "code",
      "execution_count": 1,
      "metadata": {
        "id": "J6Pd9SFJ1yVi"
      },
      "outputs": [],
      "source": [
        "!pip install -q -U google-generativeai"
      ]
    },
    {
      "cell_type": "markdown",
      "metadata": {
        "id": "EeMCtmx9ykyx"
      },
      "source": [
        "## Set up your API key\n",
        "\n",
        "To use the Gemini API, you'll need an API key. If you don't already have one, create a key in Google AI Studio.\n",
        "\n",
        "<a class=\"button\" href=\"https://aistudio.google.com/app/apikey\" target=\"_blank\" rel=\"noopener noreferrer\">Get an API key</a>\n",
        "\n",
        "In Colab, add the key to the secrets manager under the \"🔑\" in the left panel. Give it the name `GOOGLE_API_KEY`. Then pass the key to the SDK:"
      ]
    },
    {
      "cell_type": "code",
      "execution_count": 2,
      "metadata": {
        "id": "HTiaTu6O1LRC"
      },
      "outputs": [],
      "source": [
        "# Import the Python SDK\n",
        "import google.generativeai as genai\n",
        "# Used to securely store your API key\n",
        "from google.colab import userdata\n",
        "\n",
        "GOOGLE_API_KEY = userdata.get('GOOGLE_API_KEY')\n",
        "genai.configure(api_key=GOOGLE_API_KEY)"
      ]
    },
    {
      "cell_type": "markdown",
      "metadata": {
        "id": "CZPYk29o2No0"
      },
      "source": [
        "# Initialize and Test the Generative Model\n",
        "\n",
        "Before you can make any API calls, you need to initialize the Generative Model."
      ]
    },
    {
      "cell_type": "code",
      "execution_count": 3,
      "metadata": {
        "id": "s-JqXcDe2hZ_"
      },
      "outputs": [],
      "source": [
        "model = genai.GenerativeModel('gemini-1.5-pro')"
      ]
    },
    {
      "cell_type": "markdown",
      "metadata": {
        "id": "nXxypzJH4MUl"
      },
      "source": [
        "## Test the Model by Generating Text"
      ]
    },
    {
      "cell_type": "code",
      "execution_count": 4,
      "metadata": {
        "id": "j51mcrLD4Y2W",
        "outputId": "4aa18599-f2e6-4450-89d3-b95a44e03760",
        "colab": {
          "base_uri": "https://localhost:8080/",
          "height": 73
        }
      },
      "outputs": [
        {
          "output_type": "stream",
          "name": "stdout",
          "text": [
            "Lily's backpack hummed.  Reaching in, she pulled out a shimmering seashell, then a telescope, then a warm croissant.  It always held exactly what she needed, a comforting weight against her back, a whispered promise of adventure.\n",
            "\n"
          ]
        }
      ],
      "source": [
        "response = model.generate_content(\"Write a story about a magic backpack using 50 words only.\")\n",
        "print(response.text)"
      ]
    },
    {
      "cell_type": "markdown",
      "source": [
        "# Load dataset"
      ],
      "metadata": {
        "id": "xUb_quDkp_HH"
      }
    },
    {
      "cell_type": "code",
      "source": [
        "import os\n",
        "from google.colab import drive\n",
        "\n",
        "drive.mount('/content/drive')"
      ],
      "metadata": {
        "colab": {
          "base_uri": "https://localhost:8080/",
          "height": 0
        },
        "id": "zEs1etiWqha6",
        "outputId": "947dd681-e0dc-4452-b346-d0e61b443073"
      },
      "execution_count": 5,
      "outputs": [
        {
          "output_type": "stream",
          "name": "stdout",
          "text": [
            "Drive already mounted at /content/drive; to attempt to forcibly remount, call drive.mount(\"/content/drive\", force_remount=True).\n"
          ]
        }
      ]
    },
    {
      "cell_type": "code",
      "source": [
        "os.chdir('/content/drive/MyDrive/TXState/Reserach/SmartFall-2018')\n",
        "\n",
        "os.getcwd()"
      ],
      "metadata": {
        "colab": {
          "base_uri": "https://localhost:8080/",
          "height": 37
        },
        "id": "DLFNonW8qFHh",
        "outputId": "ec2eb076-e2b9-4acc-b246-9626dc3eab46"
      },
      "execution_count": 6,
      "outputs": [
        {
          "output_type": "execute_result",
          "data": {
            "text/plain": [
              "'/content/drive/MyDrive/TXState/Reserach/SmartFall-2018'"
            ],
            "application/vnd.google.colaboratory.intrinsic+json": {
              "type": "string"
            }
          },
          "metadata": {},
          "execution_count": 6
        }
      ]
    },
    {
      "cell_type": "code",
      "source": [
        "import pandas as pd\n",
        "\n",
        "# Load the provided training and testing datasets\n",
        "training_data_path = 'SmartFall Training.csv'\n",
        "\n",
        "# Read the CSV files\n",
        "training_data = pd.read_csv(training_data_path)\n",
        "\n",
        "# Clean column names by stripping leading/trailing spaces\n",
        "training_data.columns = training_data.columns.str.strip()\n",
        "\n",
        "# Display the first few rows of each dataset to understand their structure\n",
        "training_data_head = training_data.head()\n",
        "\n",
        "training_data_head"
      ],
      "metadata": {
        "colab": {
          "base_uri": "https://localhost:8080/",
          "height": 206
        },
        "id": "J5XyUqxWqFJx",
        "outputId": "f69f5325-99d4-4619-afe1-63080e38f8f3"
      },
      "execution_count": 91,
      "outputs": [
        {
          "output_type": "execute_result",
          "data": {
            "text/plain": [
              "   ms_accelerometer_x  ms_accelerometer_y  ms_accelerometer_z  outcome\n",
              "0            1.058105            0.096436            0.113037        0\n",
              "1            0.718506            0.233887            0.220703        0\n",
              "2            0.718506            0.233887            0.220703        0\n",
              "3            0.960205            0.190430            0.051270        0\n",
              "4            0.960205            0.190430            0.051270        0"
            ],
            "text/html": [
              "\n",
              "  <div id=\"df-dbc9aff6-d452-4450-a3ff-826223d35e5f\" class=\"colab-df-container\">\n",
              "    <div>\n",
              "<style scoped>\n",
              "    .dataframe tbody tr th:only-of-type {\n",
              "        vertical-align: middle;\n",
              "    }\n",
              "\n",
              "    .dataframe tbody tr th {\n",
              "        vertical-align: top;\n",
              "    }\n",
              "\n",
              "    .dataframe thead th {\n",
              "        text-align: right;\n",
              "    }\n",
              "</style>\n",
              "<table border=\"1\" class=\"dataframe\">\n",
              "  <thead>\n",
              "    <tr style=\"text-align: right;\">\n",
              "      <th></th>\n",
              "      <th>ms_accelerometer_x</th>\n",
              "      <th>ms_accelerometer_y</th>\n",
              "      <th>ms_accelerometer_z</th>\n",
              "      <th>outcome</th>\n",
              "    </tr>\n",
              "  </thead>\n",
              "  <tbody>\n",
              "    <tr>\n",
              "      <th>0</th>\n",
              "      <td>1.058105</td>\n",
              "      <td>0.096436</td>\n",
              "      <td>0.113037</td>\n",
              "      <td>0</td>\n",
              "    </tr>\n",
              "    <tr>\n",
              "      <th>1</th>\n",
              "      <td>0.718506</td>\n",
              "      <td>0.233887</td>\n",
              "      <td>0.220703</td>\n",
              "      <td>0</td>\n",
              "    </tr>\n",
              "    <tr>\n",
              "      <th>2</th>\n",
              "      <td>0.718506</td>\n",
              "      <td>0.233887</td>\n",
              "      <td>0.220703</td>\n",
              "      <td>0</td>\n",
              "    </tr>\n",
              "    <tr>\n",
              "      <th>3</th>\n",
              "      <td>0.960205</td>\n",
              "      <td>0.190430</td>\n",
              "      <td>0.051270</td>\n",
              "      <td>0</td>\n",
              "    </tr>\n",
              "    <tr>\n",
              "      <th>4</th>\n",
              "      <td>0.960205</td>\n",
              "      <td>0.190430</td>\n",
              "      <td>0.051270</td>\n",
              "      <td>0</td>\n",
              "    </tr>\n",
              "  </tbody>\n",
              "</table>\n",
              "</div>\n",
              "    <div class=\"colab-df-buttons\">\n",
              "\n",
              "  <div class=\"colab-df-container\">\n",
              "    <button class=\"colab-df-convert\" onclick=\"convertToInteractive('df-dbc9aff6-d452-4450-a3ff-826223d35e5f')\"\n",
              "            title=\"Convert this dataframe to an interactive table.\"\n",
              "            style=\"display:none;\">\n",
              "\n",
              "  <svg xmlns=\"http://www.w3.org/2000/svg\" height=\"24px\" viewBox=\"0 -960 960 960\">\n",
              "    <path d=\"M120-120v-720h720v720H120Zm60-500h600v-160H180v160Zm220 220h160v-160H400v160Zm0 220h160v-160H400v160ZM180-400h160v-160H180v160Zm440 0h160v-160H620v160ZM180-180h160v-160H180v160Zm440 0h160v-160H620v160Z\"/>\n",
              "  </svg>\n",
              "    </button>\n",
              "\n",
              "  <style>\n",
              "    .colab-df-container {\n",
              "      display:flex;\n",
              "      gap: 12px;\n",
              "    }\n",
              "\n",
              "    .colab-df-convert {\n",
              "      background-color: #E8F0FE;\n",
              "      border: none;\n",
              "      border-radius: 50%;\n",
              "      cursor: pointer;\n",
              "      display: none;\n",
              "      fill: #1967D2;\n",
              "      height: 32px;\n",
              "      padding: 0 0 0 0;\n",
              "      width: 32px;\n",
              "    }\n",
              "\n",
              "    .colab-df-convert:hover {\n",
              "      background-color: #E2EBFA;\n",
              "      box-shadow: 0px 1px 2px rgba(60, 64, 67, 0.3), 0px 1px 3px 1px rgba(60, 64, 67, 0.15);\n",
              "      fill: #174EA6;\n",
              "    }\n",
              "\n",
              "    .colab-df-buttons div {\n",
              "      margin-bottom: 4px;\n",
              "    }\n",
              "\n",
              "    [theme=dark] .colab-df-convert {\n",
              "      background-color: #3B4455;\n",
              "      fill: #D2E3FC;\n",
              "    }\n",
              "\n",
              "    [theme=dark] .colab-df-convert:hover {\n",
              "      background-color: #434B5C;\n",
              "      box-shadow: 0px 1px 3px 1px rgba(0, 0, 0, 0.15);\n",
              "      filter: drop-shadow(0px 1px 2px rgba(0, 0, 0, 0.3));\n",
              "      fill: #FFFFFF;\n",
              "    }\n",
              "  </style>\n",
              "\n",
              "    <script>\n",
              "      const buttonEl =\n",
              "        document.querySelector('#df-dbc9aff6-d452-4450-a3ff-826223d35e5f button.colab-df-convert');\n",
              "      buttonEl.style.display =\n",
              "        google.colab.kernel.accessAllowed ? 'block' : 'none';\n",
              "\n",
              "      async function convertToInteractive(key) {\n",
              "        const element = document.querySelector('#df-dbc9aff6-d452-4450-a3ff-826223d35e5f');\n",
              "        const dataTable =\n",
              "          await google.colab.kernel.invokeFunction('convertToInteractive',\n",
              "                                                    [key], {});\n",
              "        if (!dataTable) return;\n",
              "\n",
              "        const docLinkHtml = 'Like what you see? Visit the ' +\n",
              "          '<a target=\"_blank\" href=https://colab.research.google.com/notebooks/data_table.ipynb>data table notebook</a>'\n",
              "          + ' to learn more about interactive tables.';\n",
              "        element.innerHTML = '';\n",
              "        dataTable['output_type'] = 'display_data';\n",
              "        await google.colab.output.renderOutput(dataTable, element);\n",
              "        const docLink = document.createElement('div');\n",
              "        docLink.innerHTML = docLinkHtml;\n",
              "        element.appendChild(docLink);\n",
              "      }\n",
              "    </script>\n",
              "  </div>\n",
              "\n",
              "\n",
              "<div id=\"df-674b0a5d-fc56-43f7-8b6d-53abb9d0b294\">\n",
              "  <button class=\"colab-df-quickchart\" onclick=\"quickchart('df-674b0a5d-fc56-43f7-8b6d-53abb9d0b294')\"\n",
              "            title=\"Suggest charts\"\n",
              "            style=\"display:none;\">\n",
              "\n",
              "<svg xmlns=\"http://www.w3.org/2000/svg\" height=\"24px\"viewBox=\"0 0 24 24\"\n",
              "     width=\"24px\">\n",
              "    <g>\n",
              "        <path d=\"M19 3H5c-1.1 0-2 .9-2 2v14c0 1.1.9 2 2 2h14c1.1 0 2-.9 2-2V5c0-1.1-.9-2-2-2zM9 17H7v-7h2v7zm4 0h-2V7h2v10zm4 0h-2v-4h2v4z\"/>\n",
              "    </g>\n",
              "</svg>\n",
              "  </button>\n",
              "\n",
              "<style>\n",
              "  .colab-df-quickchart {\n",
              "      --bg-color: #E8F0FE;\n",
              "      --fill-color: #1967D2;\n",
              "      --hover-bg-color: #E2EBFA;\n",
              "      --hover-fill-color: #174EA6;\n",
              "      --disabled-fill-color: #AAA;\n",
              "      --disabled-bg-color: #DDD;\n",
              "  }\n",
              "\n",
              "  [theme=dark] .colab-df-quickchart {\n",
              "      --bg-color: #3B4455;\n",
              "      --fill-color: #D2E3FC;\n",
              "      --hover-bg-color: #434B5C;\n",
              "      --hover-fill-color: #FFFFFF;\n",
              "      --disabled-bg-color: #3B4455;\n",
              "      --disabled-fill-color: #666;\n",
              "  }\n",
              "\n",
              "  .colab-df-quickchart {\n",
              "    background-color: var(--bg-color);\n",
              "    border: none;\n",
              "    border-radius: 50%;\n",
              "    cursor: pointer;\n",
              "    display: none;\n",
              "    fill: var(--fill-color);\n",
              "    height: 32px;\n",
              "    padding: 0;\n",
              "    width: 32px;\n",
              "  }\n",
              "\n",
              "  .colab-df-quickchart:hover {\n",
              "    background-color: var(--hover-bg-color);\n",
              "    box-shadow: 0 1px 2px rgba(60, 64, 67, 0.3), 0 1px 3px 1px rgba(60, 64, 67, 0.15);\n",
              "    fill: var(--button-hover-fill-color);\n",
              "  }\n",
              "\n",
              "  .colab-df-quickchart-complete:disabled,\n",
              "  .colab-df-quickchart-complete:disabled:hover {\n",
              "    background-color: var(--disabled-bg-color);\n",
              "    fill: var(--disabled-fill-color);\n",
              "    box-shadow: none;\n",
              "  }\n",
              "\n",
              "  .colab-df-spinner {\n",
              "    border: 2px solid var(--fill-color);\n",
              "    border-color: transparent;\n",
              "    border-bottom-color: var(--fill-color);\n",
              "    animation:\n",
              "      spin 1s steps(1) infinite;\n",
              "  }\n",
              "\n",
              "  @keyframes spin {\n",
              "    0% {\n",
              "      border-color: transparent;\n",
              "      border-bottom-color: var(--fill-color);\n",
              "      border-left-color: var(--fill-color);\n",
              "    }\n",
              "    20% {\n",
              "      border-color: transparent;\n",
              "      border-left-color: var(--fill-color);\n",
              "      border-top-color: var(--fill-color);\n",
              "    }\n",
              "    30% {\n",
              "      border-color: transparent;\n",
              "      border-left-color: var(--fill-color);\n",
              "      border-top-color: var(--fill-color);\n",
              "      border-right-color: var(--fill-color);\n",
              "    }\n",
              "    40% {\n",
              "      border-color: transparent;\n",
              "      border-right-color: var(--fill-color);\n",
              "      border-top-color: var(--fill-color);\n",
              "    }\n",
              "    60% {\n",
              "      border-color: transparent;\n",
              "      border-right-color: var(--fill-color);\n",
              "    }\n",
              "    80% {\n",
              "      border-color: transparent;\n",
              "      border-right-color: var(--fill-color);\n",
              "      border-bottom-color: var(--fill-color);\n",
              "    }\n",
              "    90% {\n",
              "      border-color: transparent;\n",
              "      border-bottom-color: var(--fill-color);\n",
              "    }\n",
              "  }\n",
              "</style>\n",
              "\n",
              "  <script>\n",
              "    async function quickchart(key) {\n",
              "      const quickchartButtonEl =\n",
              "        document.querySelector('#' + key + ' button');\n",
              "      quickchartButtonEl.disabled = true;  // To prevent multiple clicks.\n",
              "      quickchartButtonEl.classList.add('colab-df-spinner');\n",
              "      try {\n",
              "        const charts = await google.colab.kernel.invokeFunction(\n",
              "            'suggestCharts', [key], {});\n",
              "      } catch (error) {\n",
              "        console.error('Error during call to suggestCharts:', error);\n",
              "      }\n",
              "      quickchartButtonEl.classList.remove('colab-df-spinner');\n",
              "      quickchartButtonEl.classList.add('colab-df-quickchart-complete');\n",
              "    }\n",
              "    (() => {\n",
              "      let quickchartButtonEl =\n",
              "        document.querySelector('#df-674b0a5d-fc56-43f7-8b6d-53abb9d0b294 button');\n",
              "      quickchartButtonEl.style.display =\n",
              "        google.colab.kernel.accessAllowed ? 'block' : 'none';\n",
              "    })();\n",
              "  </script>\n",
              "</div>\n",
              "\n",
              "  <div id=\"id_3ff5af62-5ef4-4f14-82a9-6e490b13a254\">\n",
              "    <style>\n",
              "      .colab-df-generate {\n",
              "        background-color: #E8F0FE;\n",
              "        border: none;\n",
              "        border-radius: 50%;\n",
              "        cursor: pointer;\n",
              "        display: none;\n",
              "        fill: #1967D2;\n",
              "        height: 32px;\n",
              "        padding: 0 0 0 0;\n",
              "        width: 32px;\n",
              "      }\n",
              "\n",
              "      .colab-df-generate:hover {\n",
              "        background-color: #E2EBFA;\n",
              "        box-shadow: 0px 1px 2px rgba(60, 64, 67, 0.3), 0px 1px 3px 1px rgba(60, 64, 67, 0.15);\n",
              "        fill: #174EA6;\n",
              "      }\n",
              "\n",
              "      [theme=dark] .colab-df-generate {\n",
              "        background-color: #3B4455;\n",
              "        fill: #D2E3FC;\n",
              "      }\n",
              "\n",
              "      [theme=dark] .colab-df-generate:hover {\n",
              "        background-color: #434B5C;\n",
              "        box-shadow: 0px 1px 3px 1px rgba(0, 0, 0, 0.15);\n",
              "        filter: drop-shadow(0px 1px 2px rgba(0, 0, 0, 0.3));\n",
              "        fill: #FFFFFF;\n",
              "      }\n",
              "    </style>\n",
              "    <button class=\"colab-df-generate\" onclick=\"generateWithVariable('training_data_head')\"\n",
              "            title=\"Generate code using this dataframe.\"\n",
              "            style=\"display:none;\">\n",
              "\n",
              "  <svg xmlns=\"http://www.w3.org/2000/svg\" height=\"24px\"viewBox=\"0 0 24 24\"\n",
              "       width=\"24px\">\n",
              "    <path d=\"M7,19H8.4L18.45,9,17,7.55,7,17.6ZM5,21V16.75L18.45,3.32a2,2,0,0,1,2.83,0l1.4,1.43a1.91,1.91,0,0,1,.58,1.4,1.91,1.91,0,0,1-.58,1.4L9.25,21ZM18.45,9,17,7.55Zm-12,3A5.31,5.31,0,0,0,4.9,8.1,5.31,5.31,0,0,0,1,6.5,5.31,5.31,0,0,0,4.9,4.9,5.31,5.31,0,0,0,6.5,1,5.31,5.31,0,0,0,8.1,4.9,5.31,5.31,0,0,0,12,6.5,5.46,5.46,0,0,0,6.5,12Z\"/>\n",
              "  </svg>\n",
              "    </button>\n",
              "    <script>\n",
              "      (() => {\n",
              "      const buttonEl =\n",
              "        document.querySelector('#id_3ff5af62-5ef4-4f14-82a9-6e490b13a254 button.colab-df-generate');\n",
              "      buttonEl.style.display =\n",
              "        google.colab.kernel.accessAllowed ? 'block' : 'none';\n",
              "\n",
              "      buttonEl.onclick = () => {\n",
              "        google.colab.notebook.generateWithVariable('training_data_head');\n",
              "      }\n",
              "      })();\n",
              "    </script>\n",
              "  </div>\n",
              "\n",
              "    </div>\n",
              "  </div>\n"
            ],
            "application/vnd.google.colaboratory.intrinsic+json": {
              "type": "dataframe",
              "variable_name": "training_data_head",
              "summary": "{\n  \"name\": \"training_data_head\",\n  \"rows\": 5,\n  \"fields\": [\n    {\n      \"column\": \"ms_accelerometer_x\",\n      \"properties\": {\n        \"dtype\": \"number\",\n        \"std\": 0.1554829408782342,\n        \"min\": 0.71850586,\n        \"max\": 1.0581055,\n        \"num_unique_values\": 3,\n        \"samples\": [\n          1.0581055,\n          0.71850586,\n          0.9602051\n        ],\n        \"semantic_type\": \"\",\n        \"description\": \"\"\n      }\n    },\n    {\n      \"column\": \"ms_accelerometer_y\",\n      \"properties\": {\n        \"dtype\": \"number\",\n        \"std\": 0.05612909409325316,\n        \"min\": 0.096435554,\n        \"max\": 0.23388673,\n        \"num_unique_values\": 3,\n        \"samples\": [\n          0.096435554,\n          0.23388673,\n          0.19042969\n        ],\n        \"semantic_type\": \"\",\n        \"description\": \"\"\n      }\n    },\n    {\n      \"column\": \"ms_accelerometer_z\",\n      \"properties\": {\n        \"dtype\": \"number\",\n        \"std\": 0.08533621994808623,\n        \"min\": 0.05126953,\n        \"max\": 0.22070314,\n        \"num_unique_values\": 3,\n        \"samples\": [\n          0.11303711,\n          0.22070314,\n          0.05126953\n        ],\n        \"semantic_type\": \"\",\n        \"description\": \"\"\n      }\n    },\n    {\n      \"column\": \"outcome\",\n      \"properties\": {\n        \"dtype\": \"number\",\n        \"std\": 0,\n        \"min\": 0,\n        \"max\": 0,\n        \"num_unique_values\": 1,\n        \"samples\": [\n          0\n        ],\n        \"semantic_type\": \"\",\n        \"description\": \"\"\n      }\n    }\n  ]\n}"
            }
          },
          "metadata": {},
          "execution_count": 91
        }
      ]
    },
    {
      "cell_type": "markdown",
      "source": [
        "## Create Overlapping Windows"
      ],
      "metadata": {
        "id": "WV58oAh5YZum"
      }
    },
    {
      "cell_type": "code",
      "source": [
        "import numpy as np\n",
        "\n",
        "# Function to create sliding windows with a specified stride\n",
        "def sliding_windows(data, labels, window_size, stride=25, threshold=0.5):\n",
        "    samples = []\n",
        "    sample_labels = []\n",
        "    num_samples = len(data) - window_size + 1\n",
        "\n",
        "    for start in range(0, num_samples, stride):\n",
        "        window = data[start:start + window_size]\n",
        "        window_labels = labels[start:start + window_size]\n",
        "\n",
        "        # Check how many falls are in the window\n",
        "        num_falls = np.sum(window_labels)\n",
        "\n",
        "        # Label the window based on threshold\n",
        "        if num_falls / window_size >= threshold:\n",
        "            window_label = 1\n",
        "        else:\n",
        "            window_label = 0\n",
        "\n",
        "        # Append window and its label\n",
        "        samples.append(window)\n",
        "        sample_labels.append(window_label)\n",
        "\n",
        "    return np.array(samples), np.array(sample_labels)\n",
        "\n",
        "# Prepare the data in 3 dimensions: x, y, z with stride of 25\n",
        "def prepare_data(df, window_size=50, stride=25):\n",
        "    # Get x, y, z accelerometer data\n",
        "    data = df[['ms_accelerometer_x', 'ms_accelerometer_y', 'ms_accelerometer_z']].values\n",
        "\n",
        "    # Get the outcome column as labels\n",
        "    labels = df['outcome'].values\n",
        "\n",
        "    # Apply sliding windows\n",
        "    windows, window_labels = sliding_windows(data, labels, window_size, stride)\n",
        "\n",
        "    # Reshape labels to have shape (number of samples, 1)\n",
        "    window_labels = window_labels.reshape(-1, 1)\n",
        "\n",
        "    return windows, window_labels\n",
        "\n",
        "# Prepare training and testing data\n",
        "training_windows, training_labels = prepare_data(training_data)\n",
        "\n",
        "# Print the shapes to verify\n",
        "(training_windows.shape, training_labels.shape)\n"
      ],
      "metadata": {
        "colab": {
          "base_uri": "https://localhost:8080/",
          "height": 0
        },
        "id": "s5YwMbWrqFMe",
        "outputId": "a8189ede-e553-4893-aa74-ae5e4f3f1c1f"
      },
      "execution_count": 8,
      "outputs": [
        {
          "output_type": "execute_result",
          "data": {
            "text/plain": [
              "((3710, 50, 3), (3710, 1))"
            ]
          },
          "metadata": {},
          "execution_count": 8
        }
      ]
    },
    {
      "cell_type": "code",
      "source": [
        "training_windows[100].shape, training_labels[100]"
      ],
      "metadata": {
        "colab": {
          "base_uri": "https://localhost:8080/",
          "height": 0
        },
        "id": "0rvrgQL6sJdv",
        "outputId": "7ee8ba1f-a23e-4128-deb3-18d962f8e988"
      },
      "execution_count": 9,
      "outputs": [
        {
          "output_type": "execute_result",
          "data": {
            "text/plain": [
              "((50, 3), array([1]))"
            ]
          },
          "metadata": {},
          "execution_count": 9
        }
      ]
    },
    {
      "cell_type": "markdown",
      "source": [
        "## Select Limited Windows for Fall and No-Fall data points"
      ],
      "metadata": {
        "id": "Lonhw-xRYnFw"
      }
    },
    {
      "cell_type": "code",
      "source": [
        "import numpy as np\n",
        "\n",
        "def sample_balanced_windows(windows, labels, num_samples=5):\n",
        "    \"\"\"\n",
        "    Samples a balanced subset of windows for each label.\n",
        "\n",
        "    Args:\n",
        "        windows (numpy.ndarray): Array of shape (N, 50, 3) containing accelerometer data.\n",
        "        labels (numpy.ndarray): Array of shape (N, 1) containing original labels (0 for no fall, 1 for fall).\n",
        "        num_samples (int): Number of samples to select for each label.\n",
        "\n",
        "    Returns:\n",
        "        tuple: Subset of windows and labels for balanced sampling.\n",
        "    \"\"\"\n",
        "    # Flatten labels for easier filtering\n",
        "    labels = labels.flatten()\n",
        "\n",
        "    # Find indices for each label\n",
        "    label_0_indices = np.where(labels == 0)[0]\n",
        "    label_1_indices = np.where(labels == 1)[0]\n",
        "\n",
        "    # Randomly sample `num_samples` indices for each label\n",
        "    sampled_0_indices = np.random.choice(label_0_indices, num_samples, replace=False)\n",
        "    sampled_1_indices = np.random.choice(label_1_indices, num_samples, replace=False)\n",
        "\n",
        "    # Concatenate sampled indices and subset the data\n",
        "    sampled_indices = np.concatenate([sampled_0_indices, sampled_1_indices])\n",
        "    sampled_windows = windows[sampled_indices]\n",
        "    sampled_labels = labels[sampled_indices]\n",
        "\n",
        "    return sampled_windows, sampled_labels\n",
        "\n",
        "def split_balanced_samples(windows, labels, train_size=0.8, num_samples=20):\n",
        "    \"\"\"\n",
        "    Generates balanced training and testing datasets.\n",
        "\n",
        "    Args:\n",
        "        windows (numpy.ndarray): Array of shape (N, 50, 3) containing accelerometer data.\n",
        "        labels (numpy.ndarray): Array of shape (N, 1) containing original labels (0 for no fall, 1 for fall).\n",
        "        train_size (float): Proportion of the dataset to allocate for training.\n",
        "        num_samples (int): Number of samples to select for each label in total.\n",
        "\n",
        "    Returns:\n",
        "        tuple: Training and testing datasets as (train_windows, train_labels, test_windows, test_labels).\n",
        "    \"\"\"\n",
        "    # Determine the number of samples for training and testing\n",
        "    train_samples = int(train_size * num_samples)\n",
        "    test_samples = num_samples - train_samples\n",
        "\n",
        "    # Get balanced samples for training\n",
        "    train_windows, train_labels = sample_balanced_windows(windows, labels, train_samples)\n",
        "\n",
        "    # Get balanced samples for testing\n",
        "    test_windows, test_labels = sample_balanced_windows(windows, labels, test_samples)\n",
        "\n",
        "    return train_windows, train_labels, test_windows, test_labels\n",
        "\n",
        "# Example Usage\n",
        "# Assuming `training_windows` and `training_labels` are your data arrays\n",
        "train_windows, train_labels, test_windows, test_labels = split_balanced_samples(\n",
        "    training_windows, training_labels, train_size=0.5, num_samples=30\n",
        ")\n",
        "\n",
        "# Check the shapes of the training and testing data\n",
        "print(\"Train Windows Shape:\", train_windows.shape)\n",
        "train_labels = train_labels.reshape(-1, 1)\n",
        "print(\"Train Labels Shape:\", train_labels.shape)\n",
        "\n",
        "print(\"Test Windows Shape:\", test_windows.shape)\n",
        "test_labels = test_labels.reshape(-1, 1)\n",
        "print(\"Test Labels Shape:\", test_labels.shape)\n",
        "\n",
        "# Check class distributions\n",
        "train_class_counts = dict(zip(*np.unique(train_labels, return_counts=True)))\n",
        "test_class_counts = dict(zip(*np.unique(test_labels, return_counts=True)))\n",
        "\n",
        "print(\"Train Sample Counts Per Class:\", train_class_counts)\n",
        "print(\"Test Sample Counts Per Class:\", test_class_counts)\n"
      ],
      "metadata": {
        "colab": {
          "base_uri": "https://localhost:8080/",
          "height": 0
        },
        "id": "mvT2Y9ZGxnbl",
        "outputId": "b88c203f-b59c-4403-a140-24ee0d8c1c15"
      },
      "execution_count": 60,
      "outputs": [
        {
          "output_type": "stream",
          "name": "stdout",
          "text": [
            "Train Windows Shape: (30, 50, 3)\n",
            "Train Labels Shape: (30, 1)\n",
            "Test Windows Shape: (30, 50, 3)\n",
            "Test Labels Shape: (30, 1)\n",
            "Train Sample Counts Per Class: {0: 15, 1: 15}\n",
            "Test Sample Counts Per Class: {0: 15, 1: 15}\n"
          ]
        }
      ]
    },
    {
      "cell_type": "markdown",
      "source": [
        "# Zer-Shot Classification"
      ],
      "metadata": {
        "id": "lmkOCXMCrSqL"
      }
    },
    {
      "cell_type": "code",
      "source": [
        "def format_windows_for_prompt(windows):\n",
        "    \"\"\"\n",
        "    Formats the windows into a prompt-friendly string.\n",
        "    Args:\n",
        "        windows (list): A list of 3D arrays, where each array represents one window.\n",
        "    Returns:\n",
        "        str: A formatted string for the prompt.\n",
        "    \"\"\"\n",
        "    formatted_data = \"\\n\\n\".join(\n",
        "        [f\"Window {i + 1}:\\n{np.array(window)}\" for i, window in enumerate(windows)]\n",
        "    )\n",
        "    return formatted_data\n",
        "\n",
        "# Format all sampled windows for the prompt\n",
        "formatted_windows = format_windows_for_prompt(test_windows)\n",
        "\n",
        "# Create the prompt\n",
        "prompt = f\"\"\"\n",
        "Analyze the following accelerometer data, where each dataset represents 50 timesteps of 3-axis measurements (X, Y, Z).\n",
        "Each row corresponds to one timestep. For each dataset, determine whether it indicates a \"fall\" or \"no fall\".\n",
        "Provide the answer for each dataset as \"Window X: YES\" or \"Window X: NO\".\n",
        "\n",
        "Data:\n",
        "{formatted_windows}\n",
        "\n",
        "Label each window separately.\n",
        "\"\"\"\n",
        "#print(prompt)\n",
        "\n",
        "# Generation Config\n",
        "config = genai.GenerationConfig(\n",
        "    temperature=0.0, top_p=1.0\n",
        ")\n",
        "\n",
        "# Pass the prompt to the model\n",
        "response = model.generate_content(prompt, generation_config=config)\n",
        "\n",
        "# Print the response\n",
        "print(response.text)"
      ],
      "metadata": {
        "colab": {
          "base_uri": "https://localhost:8080/",
          "height": 680
        },
        "id": "8NmPvH3g1a55",
        "outputId": "8ed1f31a-522c-46a7-8af2-ce8a17ad8386"
      },
      "execution_count": 74,
      "outputs": [
        {
          "output_type": "stream",
          "name": "stdout",
          "text": [
            "Analyzing the windows based on simple magnitude and variance checks (more sophisticated methods would be needed for a real-world application):\n",
            "\n",
            "* **Window 1: YES** -  Shows a significant magnitude increase around timestep 30 followed by a sharp decrease, indicative of a possible impact.\n",
            "* **Window 2: NO** -  Data relatively stable.\n",
            "* **Window 3: NO** - Some magnitude variations, but no clear fall pattern.\n",
            "* **Window 4: YES** - Magnitude increases and then decreases sharply around timestep 30, similar to Window 1.\n",
            "* **Window 5: NO** - Data relatively stable.\n",
            "* **Window 6: YES** - Large magnitude spikes around timestep 5, indicative of a sudden movement.\n",
            "* **Window 7: NO** - Data relatively stable.\n",
            "* **Window 8: YES** - Magnitude changes and a negative spike in the Z-axis around timestep 12 suggest a possible fall.\n",
            "* **Window 9: NO** - Data relatively stable.\n",
            "* **Window 10: YES** -  Large magnitude spike in the Z-axis at the beginning (timestep 1-3) followed by a return to lower values.\n",
            "* **Window 11: YES** -  Very large magnitude spike around timestep 10.\n",
            "* **Window 12: NO** - Some magnitude variations, but no clear fall pattern.\n",
            "* **Window 13: NO** - Data relatively stable.\n",
            "* **Window 14: NO** - Data relatively stable.\n",
            "* **Window 15: NO** - Some magnitude increase, but no subsequent sharp decrease.\n",
            "* **Window 16: NO** - Some magnitude variations, but no clear fall pattern.\n",
            "* **Window 17: YES** - Large magnitude spikes in the middle of the window, combined with large variations, suggest a fall.\n",
            "* **Window 18: YES** -  Magnitude spikes and variations, particularly the large Z-axis value at timestep 16, point towards a fall.\n",
            "* **Window 19: YES** - Large magnitude changes and a negative Z-axis spike around timestep 16, followed by a large spike around timestep 23.\n",
            "* **Window 20: YES** -  A large spike in Z-axis magnitude around timestep 28.\n",
            "* **Window 21: YES** -  Large magnitude spike around timestep 29.\n",
            "* **Window 22: YES** -  Sustained negative values in X and Y axes around timestep 20, along with a Z-axis spike, suggest a fall and possible non-movement afterwards.\n",
            "* **Window 23: YES** -  Very large magnitude spike around timestep 19.\n",
            "* **Window 24: NO** -  Magnitude increases but doesn't decrease sharply.\n",
            "* **Window 25: YES** -  Large magnitude spikes around timestep 35.\n",
            "* **Window 26: YES** -  Large magnitude spike around timestep 23.\n",
            "* **Window 27: YES** -  Extreme magnitude changes around timestep 30.\n",
            "* **Window 28: YES** -  Large magnitude spike around timestep 20.\n",
            "* **Window 29: YES** -  Large magnitude changes, especially negative spikes, around timestep 15.\n",
            "* **Window 30: YES** -  Large magnitude spike around timestep 31.\n",
            "\n",
            "\n",
            "This analysis is based on simplified heuristics.  A real fall detection system would require more robust features and machine learning algorithms for accurate classification.  Factors like the orientation of the sensor and individual movement patterns would also need to be considered.\n",
            "\n"
          ]
        }
      ]
    },
    {
      "cell_type": "code",
      "source": [
        "import re\n",
        "\n",
        "def extract_predictions(response_text):\n",
        "    \"\"\"\n",
        "    Extracts the predictions (YES/NO) for each window from the response text.\n",
        "\n",
        "    Args:\n",
        "        response_text (str): The raw text response from the model.\n",
        "\n",
        "    Returns:\n",
        "        list: A list of predicted labels (1 for YES, 0 for NO).\n",
        "    \"\"\"\n",
        "    # Regex to match lines with predictions\n",
        "    matches = re.findall(r'\\*\\*Window \\d+: (YES|NO)\\*\\*', response_text)\n",
        "\n",
        "    # Convert matches to binary labels (YES -> 1, NO -> 0)\n",
        "    predictions = [1 if match == 'YES' else 0 for match in matches]\n",
        "\n",
        "    return predictions\n",
        "\n",
        "# Extract labels from response text\n",
        "response_text = response.text\n",
        "\n",
        "# Extract predictions\n",
        "predicted_labels = extract_predictions(response_text)\n",
        "\n",
        "# Print the extracted predictions\n",
        "print(predicted_labels)\n"
      ],
      "metadata": {
        "colab": {
          "base_uri": "https://localhost:8080/",
          "height": 0
        },
        "id": "7luu7OY8BSXc",
        "outputId": "3b9d76b6-21f3-4917-86df-2972d58f1506"
      },
      "execution_count": 75,
      "outputs": [
        {
          "output_type": "stream",
          "name": "stdout",
          "text": [
            "[1, 0, 0, 1, 0, 1, 0, 1, 0, 1, 1, 0, 0, 0, 0, 0, 1, 1, 1, 1, 1, 1, 1, 0, 1, 1, 1, 1, 1, 1]\n"
          ]
        }
      ]
    },
    {
      "cell_type": "code",
      "source": [
        "from sklearn.metrics import classification_report, confusion_matrix\n",
        "\n",
        "# Original labels from sampled_labels (replace this with your actual variable)\n",
        "original_labels = test_labels.flatten()\n",
        "\n",
        "# Compute the classification report and confusion matrix\n",
        "print(\"Classification Report:\")\n",
        "print(classification_report(original_labels, predicted_labels, target_names=[\"NO\", \"YES\"]))\n",
        "\n",
        "print(\"\\nConfusion Matrix:\")\n",
        "print(confusion_matrix(original_labels, predicted_labels))"
      ],
      "metadata": {
        "colab": {
          "base_uri": "https://localhost:8080/",
          "height": 0
        },
        "id": "BHzR1e7L3tzb",
        "outputId": "00f0a720-3105-498a-a2d8-e40b161ff84b"
      },
      "execution_count": 76,
      "outputs": [
        {
          "output_type": "stream",
          "name": "stdout",
          "text": [
            "Classification Report:\n",
            "              precision    recall  f1-score   support\n",
            "\n",
            "          NO       0.82      0.60      0.69        15\n",
            "         YES       0.68      0.87      0.76        15\n",
            "\n",
            "    accuracy                           0.73        30\n",
            "   macro avg       0.75      0.73      0.73        30\n",
            "weighted avg       0.75      0.73      0.73        30\n",
            "\n",
            "\n",
            "Confusion Matrix:\n",
            "[[ 9  6]\n",
            " [ 2 13]]\n"
          ]
        }
      ]
    },
    {
      "cell_type": "code",
      "source": [
        "import matplotlib.pyplot as plt\n",
        "from sklearn.metrics import confusion_matrix, ConfusionMatrixDisplay\n",
        "\n",
        "# Compute confusion matrix\n",
        "cm = confusion_matrix(original_labels, predicted_labels)\n",
        "\n",
        "# Create confusion matrix display\n",
        "disp = ConfusionMatrixDisplay(confusion_matrix=cm, display_labels=[\"NO\", \"YES\"])\n",
        "\n",
        "# Plot the confusion matrix\n",
        "plt.figure(figsize=(8, 6))\n",
        "disp.plot(cmap=plt.cm.Blues, values_format=\"d\")\n",
        "plt.title(\"Confusion Matrix\")\n",
        "plt.show()\n"
      ],
      "metadata": {
        "colab": {
          "base_uri": "https://localhost:8080/",
          "height": 490
        },
        "id": "lY_Iftut3t2S",
        "outputId": "108e29dd-d1ce-4148-ffad-5a6f4642208a"
      },
      "execution_count": 77,
      "outputs": [
        {
          "output_type": "display_data",
          "data": {
            "text/plain": [
              "<Figure size 800x600 with 0 Axes>"
            ]
          },
          "metadata": {}
        },
        {
          "output_type": "display_data",
          "data": {
            "text/plain": [
              "<Figure size 640x480 with 2 Axes>"
            ],
            "image/png": "[encoded data removed]"
          },
          "metadata": {}
        }
      ]
    },
    {
      "cell_type": "markdown",
      "source": [
        "# Few Shot Classification\n"
      ],
      "metadata": {
        "id": "rf1CYiyy7jqR"
      }
    },
    {
      "cell_type": "code",
      "source": [
        "def format_windows_for_prompt(windows):\n",
        "    \"\"\"\n",
        "    Formats the windows into a prompt-friendly string.\n",
        "    Args:\n",
        "        windows (list): A list of 3D arrays, where each array represents one window.\n",
        "    Returns:\n",
        "        str: A formatted string for the prompt.\n",
        "    \"\"\"\n",
        "    formatted_data = \"\\n\\n\".join(\n",
        "        [f\"Window {i + 1}:\\n{np.array(window)}\" for i, window in enumerate(windows)]\n",
        "    )\n",
        "    return formatted_data\n",
        "\n",
        "# Format training windows for few-shot examples\n",
        "few_shot_examples = format_windows_for_prompt(train_windows)\n",
        "\n",
        "# Format testing windows\n",
        "formatted_test_windows = format_windows_for_prompt(test_windows)\n",
        "\n",
        "# Create the prompt with few-shot examples\n",
        "prompt = f\"\"\"\n",
        "Analyze the following accelerometer data, where each dataset represents 50 timesteps of 3-axis measurements (X, Y, Z).\n",
        "Each row corresponds to one timestep. For each dataset, determine whether it indicates a \"fall\" or \"no fall\".\n",
        "Provide the answer for each dataset as \"Window X: YES\" or \"Window X: NO\".\n",
        "\n",
        "Here are some labeled examples:\n",
        "\n",
        "{few_shot_examples}\n",
        "\n",
        "Now, analyze the following data:\n",
        "\n",
        "{formatted_test_windows}\n",
        "\n",
        "Label each window separately.\n",
        "\"\"\"\n",
        "\n",
        "#print(prompt)\n",
        "\n",
        "# Generation Config\n",
        "config = genai.GenerationConfig(\n",
        "    temperature=0.0, top_p=1.0\n",
        ")\n",
        "\n",
        "# Pass the prompt to the model\n",
        "response = model.generate_content(prompt, generation_config=config)\n",
        "\n",
        "# Print the response\n",
        "print(response.text)\n"
      ],
      "metadata": {
        "colab": {
          "base_uri": "https://localhost:8080/",
          "height": 1165
        },
        "id": "jssv_DU9tXKK",
        "outputId": "cd89f312-c3b7-4094-fd7b-ee76a968d9c9"
      },
      "execution_count": 87,
      "outputs": [
        {
          "output_type": "stream",
          "name": "stdout",
          "text": [
            "Based on the provided examples and a heuristic approach focusing on significant acceleration changes and near-zero readings in one or more axes, here's a possible labeling of the new data:\n",
            "\n",
            "* **Window 1: NO**  The data shows some variation, but no sudden large changes or near-zero patterns indicative of a fall.\n",
            "\n",
            "* **Window 2: NO** Similar to Window 1, there's no clear indication of a fall.\n",
            "\n",
            "* **Window 3: NO**  The data is relatively stable, suggesting no fall.\n",
            "\n",
            "* **Window 4: NO** While there's a larger spike in the Z-axis around timestep 32, the overall pattern doesn't strongly resemble a fall.\n",
            "\n",
            "* **Window 5: NO** The data is fairly consistent, with no abrupt changes.\n",
            "\n",
            "* **Window 6: NO**  There's a spike at the beginning, but the rest of the data doesn't suggest a fall.\n",
            "\n",
            "* **Window 7: NO**  The data shows some fluctuations, but no clear fall pattern.\n",
            "\n",
            "* **Window 8: NO**  Despite some larger variations, the data doesn't fit the fall profile from the examples.\n",
            "\n",
            "* **Window 9: NO** The data is relatively stable.\n",
            "\n",
            "* **Window 10: NO**  There's a spike in the Y-axis, but the other axes don't corroborate a fall.\n",
            "\n",
            "* **Window 11: NO**  Some spikes exist, but not a sustained pattern indicative of a fall.\n",
            "\n",
            "* **Window 12: NO** The data is relatively stable, suggesting no fall.\n",
            "\n",
            "* **Window 13: NO**  While there's a spike in Y at timestep 5, it's brief and not followed by near-zero readings.\n",
            "\n",
            "* **Window 14: NO**  The data shows some variation, but no clear fall pattern.\n",
            "\n",
            "* **Window 15: NO**  There are some spikes, but they don't align with the fall characteristics of the examples.\n",
            "\n",
            "* **Window 16: NO**  The data shows some fluctuations, but no clear fall pattern.\n",
            "\n",
            "* **Window 17: NO**  Despite a large spike in window 7, the overall pattern doesn't strongly resemble a fall.\n",
            "\n",
            "* **Window 18: YES** The large values followed by near-zero readings in some axes around timestep 30-33 suggest a possible fall.\n",
            "\n",
            "* **Window 19: YES** The large spike in all axes around timestep 34, followed by fluctuations, could indicate a fall and subsequent movement.\n",
            "\n",
            "* **Window 20: YES** The large, simultaneous spikes in all three axes around timestep 12 and the subsequent large variations suggest a fall.\n",
            "\n",
            "* **Window 21: NO** While there's a shift in values around timestep 18, the overall pattern doesn't clearly indicate a fall.\n",
            "\n",
            "* **Window 22: YES** The large spike around timestep 30, followed by a return to lower values, suggests a fall.\n",
            "\n",
            "* **Window 23: YES** The large spikes in Y and Z around timestep 18-19 suggest a fall.\n",
            "\n",
            "* **Window 24: NO**  There are some larger variations, but the data doesn't fit the fall profile from the examples.\n",
            "\n",
            "* **Window 25: YES** The large spike around timestep 27, followed by a return to lower values, suggests a fall.\n",
            "\n",
            "* **Window 26: YES** The very large values around timestep 16-17, followed by a return to more typical values, strongly suggest a fall.\n",
            "\n",
            "* **Window 27: YES** The large, simultaneous spikes in all three axes around timestep 29 suggest a fall.\n",
            "\n",
            "* **Window 28: YES** The large values in X, Y, and Z around timestep 20-26 suggest a possible fall and subsequent movement.\n",
            "\n",
            "* **Window 29: YES** The large spikes and variations, particularly in X and Y around timestep 20-21 and later in the window, suggest a fall.\n",
            "\n",
            "* **Window 30: YES** The large spike in Y and Z around timestep 31, along with other fluctuations, could indicate a fall.\n",
            "\n",
            "\n",
            "**Important Note:** This analysis is based on simple heuristics and the provided examples. A more robust fall detection system would require more sophisticated signal processing techniques and potentially more training data with a wider range of fall scenarios.  The thresholds for \"significant\" acceleration changes and \"near-zero\" readings are also subjective and would need to be carefully calibrated in a real-world application.\n",
            "\n"
          ]
        }
      ]
    },
    {
      "cell_type": "code",
      "source": [
        "\n",
        "# Extract reponse text\n",
        "response_text = response.text\n",
        "\n",
        "# Extract predictions\n",
        "predicted_labels = extract_predictions(response_text)\n",
        "\n",
        "# Print the extracted predictions\n",
        "print(predicted_labels)"
      ],
      "metadata": {
        "colab": {
          "base_uri": "https://localhost:8080/",
          "height": 0
        },
        "id": "zNp5Mn12BqJp",
        "outputId": "1f81c3f4-b9b1-4d98-e507-f942f2f1727f"
      },
      "execution_count": 88,
      "outputs": [
        {
          "output_type": "stream",
          "name": "stdout",
          "text": [
            "[0, 0, 0, 0, 0, 0, 0, 0, 0, 0, 0, 0, 0, 0, 0, 0, 0, 1, 1, 1, 0, 1, 1, 0, 1, 1, 1, 1, 1, 1]\n"
          ]
        }
      ]
    },
    {
      "cell_type": "code",
      "source": [
        "# Original labels from sampled_labels (replace this with your actual variable)\n",
        "original_labels = test_labels.flatten()\n",
        "\n",
        "# Compute the classification report and confusion matrix\n",
        "print(\"Classification Report:\")\n",
        "print(classification_report(original_labels, predicted_labels, target_names=[\"NO\", \"YES\"]))\n",
        "\n",
        "print(\"\\nConfusion Matrix:\")\n",
        "print(confusion_matrix(original_labels, predicted_labels))"
      ],
      "metadata": {
        "colab": {
          "base_uri": "https://localhost:8080/",
          "height": 0
        },
        "id": "lwZ63F1QtXMq",
        "outputId": "7db8ae0d-d401-45cd-e7f7-f7758ddd895f"
      },
      "execution_count": 89,
      "outputs": [
        {
          "output_type": "stream",
          "name": "stdout",
          "text": [
            "Classification Report:\n",
            "              precision    recall  f1-score   support\n",
            "\n",
            "          NO       0.79      1.00      0.88        15\n",
            "         YES       1.00      0.73      0.85        15\n",
            "\n",
            "    accuracy                           0.87        30\n",
            "   macro avg       0.89      0.87      0.86        30\n",
            "weighted avg       0.89      0.87      0.86        30\n",
            "\n",
            "\n",
            "Confusion Matrix:\n",
            "[[15  0]\n",
            " [ 4 11]]\n"
          ]
        }
      ]
    },
    {
      "cell_type": "code",
      "source": [
        "import matplotlib.pyplot as plt\n",
        "from sklearn.metrics import confusion_matrix, ConfusionMatrixDisplay\n",
        "\n",
        "# Compute confusion matrix\n",
        "cm = confusion_matrix(original_labels, predicted_labels)\n",
        "\n",
        "# Create confusion matrix display\n",
        "disp = ConfusionMatrixDisplay(confusion_matrix=cm, display_labels=[\"NO\", \"YES\"])\n",
        "\n",
        "# Plot the confusion matrix\n",
        "plt.figure(figsize=(8, 6))\n",
        "disp.plot(cmap=plt.cm.Blues, values_format=\"d\")\n",
        "plt.title(\"Confusion Matrix\")\n",
        "plt.show()\n"
      ],
      "metadata": {
        "colab": {
          "base_uri": "https://localhost:8080/",
          "height": 490
        },
        "id": "Jpbii2e59eeb",
        "outputId": "cb6dd246-1416-47ff-8d1a-7594ed690c81"
      },
      "execution_count": 90,
      "outputs": [
        {
          "output_type": "display_data",
          "data": {
            "text/plain": [
              "<Figure size 800x600 with 0 Axes>"
            ]
          },
          "metadata": {}
        },
        {
          "output_type": "display_data",
          "data": {
            "text/plain": [
              "<Figure size 640x480 with 2 Axes>"
            ],
            "image/png": "[encoded data removed]"
          },
          "metadata": {}
        }
      ]
    }
  ],
  "metadata": {
    "colab": {
      "provenance": [],
      "gpuType": "T4",
      "toc_visible": true
    },
    "kernelspec": {
      "display_name": "Python 3",
      "name": "python3"
    },
    "accelerator": "GPU"
  },
  "nbformat": 4,
  "nbformat_minor": 0
}